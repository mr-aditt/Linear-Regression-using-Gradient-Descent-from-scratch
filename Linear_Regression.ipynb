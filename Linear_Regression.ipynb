{
  "nbformat": 4,
  "nbformat_minor": 0,
  "metadata": {
    "colab": {
      "name": "Linear Regression.ipynb",
      "provenance": [],
      "collapsed_sections": [],
      "authorship_tag": "ABX9TyMNabofGPLqyLjeTQaxd7hi",
      "include_colab_link": true
    },
    "kernelspec": {
      "name": "python3",
      "display_name": "Python 3"
    },
    "language_info": {
      "name": "python"
    }
  },
  "cells": [
    {
      "cell_type": "markdown",
      "metadata": {
        "id": "view-in-github",
        "colab_type": "text"
      },
      "source": [
        "<a href=\"https://colab.research.google.com/github/mr-aditt/Linear-Regression-using-Gradient-Descent-from-scratch/blob/main/Linear_Regression.ipynb\" target=\"_parent\"><img src=\"https://colab.research.google.com/assets/colab-badge.svg\" alt=\"Open In Colab\"/></a>"
      ]
    },
    {
      "cell_type": "markdown",
      "metadata": {
        "id": "t0Lgix9aszAm"
      },
      "source": [
        "Implemented a linear Regression Model using Batch Gradient Descent and Stochastic Gradient Descent from scratch. Then compared our model with sklearn's Linear Regression Model on the basis of metric called \"mean squared error\"\n",
        "\n",
        "<!-- [![Open In Colab](https://colab.research.google.com/assets/colab-badge.svg)](https://colab.research.google.com/github/googlecolab/colabtools/blob/master/notebooks/colab-github-demo.ipynb) -->"
      ]
    },
    {
      "cell_type": "markdown",
      "metadata": {
        "id": "3qyWoKyZ6QMO"
      },
      "source": [
        "**Necessary Libraries**"
      ]
    },
    {
      "cell_type": "code",
      "metadata": {
        "id": "sJmwO6CO4a5L"
      },
      "source": [
        "import pandas as pd\n",
        "import matplotlib.pyplot as plt\n",
        "from sklearn.datasets import load_diabetes\n",
        "from sklearn.model_selection import train_test_split\n",
        "from sklearn.linear_model import LinearRegression as Sk_linear_reg\n",
        "from sklearn.metrics import mean_squared_error"
      ],
      "execution_count": 1,
      "outputs": []
    },
    {
      "cell_type": "markdown",
      "metadata": {
        "id": "SOu_uplI2TT7"
      },
      "source": [
        "#I. Initial Step\n",
        "1. Create User-defined Class for Regression\n",
        "2. Import and understand dataset"
      ]
    },
    {
      "cell_type": "markdown",
      "metadata": {
        "id": "BGzI_-HQ6duh"
      },
      "source": [
        "**User-defined Regression Class**"
      ]
    },
    {
      "cell_type": "code",
      "metadata": {
        "id": "l6QVr6Rn6YgR"
      },
      "source": [
        "import numpy as np\n",
        "from math import sqrt\n",
        "\n",
        "\n",
        "class LinearRegression:\n",
        "\n",
        "    def __init__(self, lr=0.01, max_iter=100_000, optimizer='bgd', batch_size=128, copy_x=True):\n",
        "        \"\"\"\n",
        "        :param lr: float, Learning Rate\n",
        "        :param max_iter: int, Max number of iteration or epochs\n",
        "        :param optimizer: str, 'bgd' <- Batch Gradient Descent\n",
        "                                'sgd' <- Stochastic Gradient Descent\n",
        "        :param batch_size: int, Partition training set into small batch size. Applicable only when\n",
        "                                optimizer = 'sgd'\n",
        "        :param copy_x: int, Make a copy of predictors\n",
        "        \"\"\"\n",
        "\n",
        "        self.coef_ = 0.0 \n",
        "        self.intercept_ = 0.0\n",
        "        self.error_ = list()\n",
        "        self.lr = lr\n",
        "        self.max_iter = max_iter\n",
        "        self.optimizer = optimizer.lower()\n",
        "        self.batch_size = batch_size if self.optimizer == 'sgd' else None\n",
        "        self.copy_x = copy_x\n",
        "    \n",
        "    @staticmethod\n",
        "    def mse(y_actual, y_predicted):\n",
        "        \"\"\"\n",
        "        This method calculates the Mean Squared Error.\n",
        "        :param y_actual: Array, True response\n",
        "        :param y_predicted: Array, Predicted response\n",
        "        :return: float, Amount of error\n",
        "        \"\"\"\n",
        "        return (1/len(y_actual))*sum((y_actual-y_predicted)**2)\n",
        "    \n",
        "    @staticmethod\n",
        "    def rmse(y_actual, y_predicted):\n",
        "        \"\"\"\n",
        "        This method calculates the Root Mean Squared Error.\n",
        "        :param y_actual: Array, True response\n",
        "        :param y_predicted: Array, Predicted response\n",
        "        :return: float, Square root of amount of error\n",
        "        \"\"\"\n",
        "        print(type(y_actual))\n",
        "        return sqrt((1/len(y_actual))*sum((y_actual-y_predicted)**2))\n",
        "    \n",
        "    def bgd(self, x, y):\n",
        "        \"\"\"\n",
        "        This is Batch Gradient Descent.\n",
        "        :param x: Array [n_instances, n_features], Predictors\n",
        "        :param y: Array [n_instances,], Response\n",
        "        \"\"\"\n",
        "        # 1. Predict y for each instance dataset. y_hat dimension [n_instances,]\n",
        "        y_hat = np.dot(x, self.coef_) + self.intercept_\n",
        "        \n",
        "        # 2. Calculate Loss for current epoch or iteration\n",
        "        loss = self.mse(y, y_hat)\n",
        "        self.error_.append(loss)\n",
        "        \n",
        "        # 3. Calculate the amount of change needed in\n",
        "        # coefficients and intercept to reduce the loss.\n",
        "        j_coef = (-2 / x.shape[0]) * np.dot(x.T, (y - y_hat))\n",
        "        j_intercept = (-2 / x.shape[0]) * np.sum(y - y_hat)\n",
        "\n",
        "        # 4. Update the coefficients and intercept\n",
        "        #  with that change \n",
        "        self.coef_ -= self.lr * j_coef\n",
        "        self.intercept_ -= self.lr * j_intercept\n",
        "    \n",
        "    def sgd(self, x, y):\n",
        "        \"\"\"\n",
        "        This is Stochastic Gradient Descent. Per iteration, sgd runs for (n_instances by batch_size) times\n",
        "        :param x: Array [n_instances, n_features], Predictors\n",
        "        :param y: Array [n_instances,], Response\n",
        "        \"\"\"\n",
        "        start = 0\n",
        "        end = self.batch_size\n",
        "        j_coef, j_intercept, loss = 0.0, 0.0, 0.0\n",
        "\n",
        "        # This loop runs for ceiling(n_instances by batch_size) times\n",
        "        while end < x.shape[0]:\n",
        "            y_hat = np.dot(x[start:end, :], self.coef_) + self.intercept_\n",
        "            loss += self.mse(y[start:end], y_hat)\n",
        "\n",
        "            # Accumulate the amount of change needed to get closer to local minima.\n",
        "            j_coef += (-2 / self.batch_size) * np.dot(x[start:end, :].T, (y[start:end] - y_hat))\n",
        "            j_intercept += (-2 / self.batch_size) * np.sum(y[start:end] - y_hat)\n",
        "            start = end\n",
        "            end += self.batch_size\n",
        "\n",
        "        self.error_.append(loss)    \n",
        "\n",
        "        # Update coefficients and intercept with the amount of change needed\n",
        "        # to get closer to local minima\n",
        "        self.coef_ -= self.lr * j_coef\n",
        "        self.intercept_ -= self.lr * j_intercept\n",
        "    \n",
        "    def fit(self, x, y):\n",
        "        \"\"\"\n",
        "        This method fits the Regression line on dataset by calling either\n",
        "        bgd or sgd for max_iter times.\n",
        "        :param x: Array [n_instances, n_features], Predictors\n",
        "        :param y: Array [n_instances,], Response\n",
        "        \"\"\"\n",
        "        x = np.asarray(x)\n",
        "        y = np.asarray(y)\n",
        "        x_copy = x.copy() if self.copy_x is True else x\n",
        "        self.coef_ = np.zeros(x_copy.shape[1])\n",
        "\n",
        "        # Run for max_iter times and calculate optimal coefficients\n",
        "        # and intercept value\n",
        "        for e in range(self.max_iter):\n",
        "            if self.optimizer == 'bgd':\n",
        "                self.bgd(x_copy, y)\n",
        "            elif self.optimizer == 'sgd':\n",
        "                self.sgd(x_copy, y)\n",
        "    \n",
        "    def predict(self, x):\n",
        "        \"\"\"\n",
        "        This method predict the response for predictors based on fitted line's\n",
        "        coefficients and intercept.\n",
        "        :param x: Array, Predictor\n",
        "        :return: Array, Predicted response\n",
        "        \"\"\"\n",
        "        x = np.asarray(x)\n",
        "        return np.dot(x, self.coef_) + self.intercept_\n",
        "\n",
        "    def __repr__(self):\n",
        "        return f'\\n\\nLinearRegression{self.coef_, self.intercept_, self.lr, self.max_iter, self.optimizer}'\n",
        "    \n",
        "    def __str__(self):\n",
        "        return '\\n\\nClassifier: Linear Regression\\nAttributes:\\n\\tcoefficient: {} \\n\\tintercept: {:.2f} ' \\\n",
        "               '\\n\\tlearning_rate: {} \\n\\tepochs: {:,} \\n\\toptimizer: {}'.format(self.coef_, self.intercept_, self.lr,\n",
        "                                                                                 self.max_iter, self.optimizer)\n"
      ],
      "execution_count": 2,
      "outputs": []
    },
    {
      "cell_type": "markdown",
      "metadata": {
        "id": "uGK8PgFO104T"
      },
      "source": [
        "**Looking at dataset**"
      ]
    },
    {
      "cell_type": "code",
      "metadata": {
        "colab": {
          "base_uri": "https://localhost:8080/"
        },
        "id": "okc5-OKk6rW-",
        "outputId": "55c8c9ed-cdb3-4d10-e378-4a6db7854d30"
      },
      "source": [
        "data = load_diabetes()\n",
        "df = pd.DataFrame(data.data, columns=data.feature_names)\n",
        "df['target'] = data.target\n",
        "print('Describe Dataset\\n', df.describe())"
      ],
      "execution_count": 3,
      "outputs": [
        {
          "output_type": "stream",
          "text": [
            "Describe Dataset\n",
            "                 age           sex  ...            s6      target\n",
            "count  4.420000e+02  4.420000e+02  ...  4.420000e+02  442.000000\n",
            "mean  -3.634285e-16  1.308343e-16  ... -3.412882e-16  152.133484\n",
            "std    4.761905e-02  4.761905e-02  ...  4.761905e-02   77.093005\n",
            "min   -1.072256e-01 -4.464164e-02  ... -1.377672e-01   25.000000\n",
            "25%   -3.729927e-02 -4.464164e-02  ... -3.317903e-02   87.000000\n",
            "50%    5.383060e-03 -4.464164e-02  ... -1.077698e-03  140.500000\n",
            "75%    3.807591e-02  5.068012e-02  ...  2.791705e-02  211.500000\n",
            "max    1.107267e-01  5.068012e-02  ...  1.356118e-01  346.000000\n",
            "\n",
            "[8 rows x 11 columns]\n"
          ],
          "name": "stdout"
        }
      ]
    },
    {
      "cell_type": "markdown",
      "metadata": {
        "id": "YxXK6uYy2thv"
      },
      "source": [
        "#II. Model"
      ]
    },
    {
      "cell_type": "markdown",
      "metadata": {
        "id": "ZGsHDwr92CVb"
      },
      "source": [
        "**Create, Train, Predict and Test**"
      ]
    },
    {
      "cell_type": "code",
      "metadata": {
        "colab": {
          "base_uri": "https://localhost:8080/"
        },
        "id": "pfXSih7b64IS",
        "outputId": "60ec124b-f609-4ec4-c052-a1afbc74d1f7"
      },
      "source": [
        "epoch = 10_000\n",
        "my_clf = LinearRegression(max_iter=epoch, optimizer='bgd')\n",
        "reg_clf = Sk_linear_reg()\n",
        "\n",
        "x_train, x_test, y_train, y_test = train_test_split(df.drop(['target'], axis=1), df['target'], test_size=0.3)\n",
        "my_clf.fit(x_train, y_train)\n",
        "reg_clf.fit(x_train, y_train)\n",
        "\n",
        "my_pred = my_clf.predict(x_test)\n",
        "reg_pred = reg_clf.predict(x_test)\n",
        "\n",
        "print(f\"User-defined Model's MSE: {my_clf.mse(y_test, my_pred):.3f}\")\n",
        "print(f\"Sklearn Model's MSE: {mean_squared_error(y_test, reg_pred):.3f}\")"
      ],
      "execution_count": 4,
      "outputs": [
        {
          "output_type": "stream",
          "text": [
            "User-defined Model's MSE: 3582.415\n",
            "Sklearn Model's MSE: 2987.808\n"
          ],
          "name": "stdout"
        }
      ]
    },
    {
      "cell_type": "code",
      "metadata": {
        "colab": {
          "base_uri": "https://localhost:8080/",
          "height": 295
        },
        "id": "NKt0knnR7nDi",
        "outputId": "d54c2a0d-29c8-4ddf-f937-375581b913d6"
      },
      "source": [
        "plt.title(\"Error in K-epochs\")\n",
        "plt.plot(range(epoch), my_clf.error_, 'r-')\n",
        "plt.xlabel('Epochs')\n",
        "plt.ylabel('Error')\n",
        "plt.show()"
      ],
      "execution_count": 5,
      "outputs": [
        {
          "output_type": "display_data",
          "data": {
            "image/png": "[encoded data removed]",
            "text/plain": [
              "<Figure size 432x288 with 1 Axes>"
            ]
          },
          "metadata": {
            "needs_background": "light"
          }
        }
      ]
    }
  ]
}